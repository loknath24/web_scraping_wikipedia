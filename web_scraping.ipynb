{
 "cells": [
  {
   "cell_type": "markdown",
   "id": "a0a036e7",
   "metadata": {},
   "source": [
    "## Web scraping data from wikipedia using pandas and BeautifulSoup"
   ]
  },
  {
   "cell_type": "markdown",
   "id": "13c814d4",
   "metadata": {},
   "source": [
    "Following code scrapes data from the wikipedia page of Largest companies in the us based on revenue with url='https://en.wikipedia.org/wiki/List_of_largest_companies_in_the_United_States_by_revenue'"
   ]
  },
  {
   "cell_type": "markdown",
   "id": "d8937e4d",
   "metadata": {},
   "source": [
    "# step1\n",
    "\n",
    "-> import the libraries Beautiful Soup(used to scrape information from webpage)  and requests(makes HTTP requests that makes it easy to send and recieve information  from websites providing a uniform interface)"
   ]
  },
  {
   "cell_type": "code",
   "execution_count": 2,
   "id": "435ad3f6",
   "metadata": {},
   "outputs": [],
   "source": [
    "from bs4 import BeautifulSoup\n",
    "\n",
    "import requests"
   ]
  },
  {
   "cell_type": "markdown",
   "id": "aff7ea21",
   "metadata": {},
   "source": [
    "# step2\n",
    "\n",
    "-> retrieve the data from a resource using .get() method.\n",
    "\n",
    "-> print out the page to get a response to make sure the command is working prefferably 200."
   ]
  },
  {
   "cell_type": "code",
   "execution_count": 3,
   "id": "97e30a33",
   "metadata": {},
   "outputs": [],
   "source": [
    "url = 'https://en.wikipedia.org/wiki/List_of_largest_companies_in_the_United_States_by_revenue'"
   ]
  },
  {
   "cell_type": "code",
   "execution_count": 4,
   "id": "d7348b30",
   "metadata": {},
   "outputs": [],
   "source": [
    "page= requests.get(url)"
   ]
  },
  {
   "cell_type": "code",
   "execution_count": 5,
   "id": "7b38ee83",
   "metadata": {},
   "outputs": [
    {
     "name": "stdout",
     "output_type": "stream",
     "text": [
      "<Response [200]>\n"
     ]
    }
   ],
   "source": [
    "print(page)"
   ]
  },
  {
   "cell_type": "markdown",
   "id": "9cc1b806",
   "metadata": {},
   "source": [
    "# step3\n",
    "-> use BeautifulSoup to parse the page \n",
    "\n",
    "-> find the html tags associated with the table we want to extract using the inspect in the given url [.find('table')] "
   ]
  },
  {
   "cell_type": "code",
   "execution_count": 6,
   "id": "02a381da",
   "metadata": {},
   "outputs": [],
   "source": [
    "soup = BeautifulSoup(page.text,'html')"
   ]
  },
  {
   "cell_type": "code",
   "execution_count": 7,
   "id": "fdc4093a",
   "metadata": {},
   "outputs": [
    {
     "data": {
      "text/plain": [
       "<table class=\"box-More_citations_needed plainlinks metadata ambox ambox-content ambox-Refimprove\" role=\"presentation\"><tbody><tr><td class=\"mbox-image\"><div class=\"mbox-image-div\"><a class=\"image\" href=\"/wiki/File:Question_book-new.svg\"><img alt=\"\" data-file-height=\"399\" data-file-width=\"512\" decoding=\"async\" height=\"39\" src=\"//upload.wikimedia.org/wikipedia/en/thumb/9/99/Question_book-new.svg/50px-Question_book-new.svg.png\" srcset=\"//upload.wikimedia.org/wikipedia/en/thumb/9/99/Question_book-new.svg/75px-Question_book-new.svg.png 1.5x, //upload.wikimedia.org/wikipedia/en/thumb/9/99/Question_book-new.svg/100px-Question_book-new.svg.png 2x\" width=\"50\"/></a></div></td><td class=\"mbox-text\"><div class=\"mbox-text-span\">This article <b>needs additional citations for <a href=\"/wiki/Wikipedia:Verifiability\" title=\"Wikipedia:Verifiability\">verification</a></b>.<span class=\"hide-when-compact\"> Please help <a class=\"external text\" href=\"https://en.wikipedia.org/w/index.php?title=List_of_largest_companies_in_the_United_States_by_revenue&amp;action=edit\">improve this article</a> by <a href=\"/wiki/Help:Referencing_for_beginners\" title=\"Help:Referencing for beginners\">adding citations to reliable sources</a>. Unsourced material may be challenged and removed.<br/><small><span class=\"plainlinks\"><i>Find sources:</i> <a class=\"external text\" href=\"https://www.google.com/search?as_eq=wikipedia&amp;q=%22List+of+largest+companies+in+the+United+States+by+revenue%22\" rel=\"nofollow\">\"List of largest companies in the United States by revenue\"</a> – <a class=\"external text\" href=\"https://www.google.com/search?tbm=nws&amp;q=%22List+of+largest+companies+in+the+United+States+by+revenue%22+-wikipedia&amp;tbs=ar:1\" rel=\"nofollow\">news</a> <b>·</b> <a class=\"external text\" href=\"https://www.google.com/search?&amp;q=%22List+of+largest+companies+in+the+United+States+by+revenue%22&amp;tbs=bkt:s&amp;tbm=bks\" rel=\"nofollow\">newspapers</a> <b>·</b> <a class=\"external text\" href=\"https://www.google.com/search?tbs=bks:1&amp;q=%22List+of+largest+companies+in+the+United+States+by+revenue%22+-wikipedia\" rel=\"nofollow\">books</a> <b>·</b> <a class=\"external text\" href=\"https://scholar.google.com/scholar?q=%22List+of+largest+companies+in+the+United+States+by+revenue%22\" rel=\"nofollow\">scholar</a> <b>·</b> <a class=\"external text\" href=\"https://www.jstor.org/action/doBasicSearch?Query=%22List+of+largest+companies+in+the+United+States+by+revenue%22&amp;acc=on&amp;wc=on\" rel=\"nofollow\">JSTOR</a></span></small></span> <span class=\"date-container\"><i>(<span class=\"date\">June 2020</span>)</i></span><span class=\"hide-when-compact\"><i> (<small><a href=\"/wiki/Help:Maintenance_template_removal\" title=\"Help:Maintenance template removal\">Learn how and when to remove this template message</a></small>)</i></span></div></td></tr></tbody></table>"
      ]
     },
     "execution_count": 7,
     "metadata": {},
     "output_type": "execute_result"
    }
   ],
   "source": [
    "soup.find('table')"
   ]
  },
  {
   "cell_type": "code",
   "execution_count": 8,
   "id": "3527938b",
   "metadata": {},
   "outputs": [],
   "source": [
    "Table=soup.find_all('table')[1]"
   ]
  },
  {
   "cell_type": "markdown",
   "id": "8e8e6f44",
   "metadata": {},
   "source": [
    "# step 4\n",
    "-> find all 'th' tags (for the heading of the table)\n",
    "\n",
    "-> use.strip() to remove the spaces and /n from the output "
   ]
  },
  {
   "cell_type": "code",
   "execution_count": 12,
   "id": "3ca0dff9",
   "metadata": {},
   "outputs": [],
   "source": [
    "world_titles=Table.find_all('th')"
   ]
  },
  {
   "cell_type": "code",
   "execution_count": 10,
   "id": "940ab03f",
   "metadata": {},
   "outputs": [
    {
     "name": "stdout",
     "output_type": "stream",
     "text": [
      "['Rank', 'Name', 'Industry', 'Revenue (USD millions)', 'Revenue growth', 'Employees', 'Headquarters']\n"
     ]
    }
   ],
   "source": [
    "world_table_titles= [title.text.strip() for title in world_titles]\n",
    "print(world_table_titles)"
   ]
  },
  {
   "cell_type": "markdown",
   "id": "a5a0835f",
   "metadata": {},
   "source": [
    "# step 5\n",
    "-> import the pandas library\n",
    "\n",
    "->put the extracted column names into a dataframe"
   ]
  },
  {
   "cell_type": "code",
   "execution_count": 13,
   "id": "9fdbf8f1",
   "metadata": {},
   "outputs": [],
   "source": [
    "import pandas as pd"
   ]
  },
  {
   "cell_type": "code",
   "execution_count": 14,
   "id": "657a5285",
   "metadata": {},
   "outputs": [
    {
     "data": {
      "text/html": [
       "<div>\n",
       "<style scoped>\n",
       "    .dataframe tbody tr th:only-of-type {\n",
       "        vertical-align: middle;\n",
       "    }\n",
       "\n",
       "    .dataframe tbody tr th {\n",
       "        vertical-align: top;\n",
       "    }\n",
       "\n",
       "    .dataframe thead th {\n",
       "        text-align: right;\n",
       "    }\n",
       "</style>\n",
       "<table border=\"1\" class=\"dataframe\">\n",
       "  <thead>\n",
       "    <tr style=\"text-align: right;\">\n",
       "      <th></th>\n",
       "      <th>Rank</th>\n",
       "      <th>Name</th>\n",
       "      <th>Industry</th>\n",
       "      <th>Revenue (USD millions)</th>\n",
       "      <th>Revenue growth</th>\n",
       "      <th>Employees</th>\n",
       "      <th>Headquarters</th>\n",
       "    </tr>\n",
       "  </thead>\n",
       "  <tbody>\n",
       "  </tbody>\n",
       "</table>\n",
       "</div>"
      ],
      "text/plain": [
       "Empty DataFrame\n",
       "Columns: [Rank, Name, Industry, Revenue (USD millions), Revenue growth, Employees, Headquarters]\n",
       "Index: []"
      ]
     },
     "execution_count": 14,
     "metadata": {},
     "output_type": "execute_result"
    }
   ],
   "source": [
    "df = pd.DataFrame(columns=world_table_titles)\n",
    "\n",
    "df"
   ]
  },
  {
   "cell_type": "markdown",
   "id": "784b4811",
   "metadata": {},
   "source": [
    "# step 6\n",
    "\n",
    "-> find all the 'tr' tags which gives the row data \n",
    "\n",
    "-> start from the second row as the first row has no data \n",
    "\n",
    "-> find all 'td' which gives out the individual row data\n",
    "\n",
    "-> insert all the individual data into the dataframe"
   ]
  },
  {
   "cell_type": "code",
   "execution_count": 15,
   "id": "eab80b8d",
   "metadata": {},
   "outputs": [],
   "source": [
    "column_data=Table.find_all('tr')"
   ]
  },
  {
   "cell_type": "code",
   "execution_count": 16,
   "id": "a3328203",
   "metadata": {},
   "outputs": [],
   "source": [
    "for row in column_data[1:]:\n",
    "    row_data=row.find_all('td')\n",
    "    individual_row_data = [data.text.strip() for data in row_data]\n",
    "    \n",
    "    length=len(df)\n",
    "    df.loc[length]=individual_row_data"
   ]
  },
  {
   "cell_type": "code",
   "execution_count": 17,
   "id": "cf0e3b7c",
   "metadata": {},
   "outputs": [
    {
     "data": {
      "text/html": [
       "<div>\n",
       "<style scoped>\n",
       "    .dataframe tbody tr th:only-of-type {\n",
       "        vertical-align: middle;\n",
       "    }\n",
       "\n",
       "    .dataframe tbody tr th {\n",
       "        vertical-align: top;\n",
       "    }\n",
       "\n",
       "    .dataframe thead th {\n",
       "        text-align: right;\n",
       "    }\n",
       "</style>\n",
       "<table border=\"1\" class=\"dataframe\">\n",
       "  <thead>\n",
       "    <tr style=\"text-align: right;\">\n",
       "      <th></th>\n",
       "      <th>Rank</th>\n",
       "      <th>Name</th>\n",
       "      <th>Industry</th>\n",
       "      <th>Revenue (USD millions)</th>\n",
       "      <th>Revenue growth</th>\n",
       "      <th>Employees</th>\n",
       "      <th>Headquarters</th>\n",
       "    </tr>\n",
       "  </thead>\n",
       "  <tbody>\n",
       "    <tr>\n",
       "      <th>0</th>\n",
       "      <td>1</td>\n",
       "      <td>Walmart</td>\n",
       "      <td>General merchandisers</td>\n",
       "      <td>572,754</td>\n",
       "      <td>2.4%</td>\n",
       "      <td>2,300,000</td>\n",
       "      <td>Bentonville, Arkansas</td>\n",
       "    </tr>\n",
       "    <tr>\n",
       "      <th>1</th>\n",
       "      <td>2</td>\n",
       "      <td>Amazon</td>\n",
       "      <td>Retail and Cloud Computing</td>\n",
       "      <td>469,822</td>\n",
       "      <td>21.7%</td>\n",
       "      <td>1,608,000</td>\n",
       "      <td>Seattle, Washington</td>\n",
       "    </tr>\n",
       "    <tr>\n",
       "      <th>2</th>\n",
       "      <td>3</td>\n",
       "      <td>Apple</td>\n",
       "      <td>Electronics industry</td>\n",
       "      <td>365,817</td>\n",
       "      <td>33.2%</td>\n",
       "      <td>154,000</td>\n",
       "      <td>Cupertino, California</td>\n",
       "    </tr>\n",
       "    <tr>\n",
       "      <th>3</th>\n",
       "      <td>4</td>\n",
       "      <td>CVS Health</td>\n",
       "      <td>Healthcare</td>\n",
       "      <td>292,111</td>\n",
       "      <td>32.0%</td>\n",
       "      <td>258,000</td>\n",
       "      <td>Woonsocket, Rhode Island</td>\n",
       "    </tr>\n",
       "    <tr>\n",
       "      <th>4</th>\n",
       "      <td>5</td>\n",
       "      <td>UnitedHealth Group</td>\n",
       "      <td>Healthcare</td>\n",
       "      <td>287,597</td>\n",
       "      <td>11.8%</td>\n",
       "      <td>350,000</td>\n",
       "      <td>Minnetonka, Minnesota</td>\n",
       "    </tr>\n",
       "    <tr>\n",
       "      <th>...</th>\n",
       "      <td>...</td>\n",
       "      <td>...</td>\n",
       "      <td>...</td>\n",
       "      <td>...</td>\n",
       "      <td>...</td>\n",
       "      <td>...</td>\n",
       "      <td>...</td>\n",
       "    </tr>\n",
       "    <tr>\n",
       "      <th>95</th>\n",
       "      <td>96</td>\n",
       "      <td>General Dynamics</td>\n",
       "      <td>Airspace and defense</td>\n",
       "      <td>38,469</td>\n",
       "      <td>8.7%</td>\n",
       "      <td>103,100</td>\n",
       "      <td>Reston, Virginia</td>\n",
       "    </tr>\n",
       "    <tr>\n",
       "      <th>96</th>\n",
       "      <td>97</td>\n",
       "      <td>CHS</td>\n",
       "      <td>Agriculture cooperative</td>\n",
       "      <td>38,448</td>\n",
       "      <td>1.4%</td>\n",
       "      <td>9,941</td>\n",
       "      <td>Inver Grove Heights, Minnesota</td>\n",
       "    </tr>\n",
       "    <tr>\n",
       "      <th>97</th>\n",
       "      <td>98</td>\n",
       "      <td>USAA</td>\n",
       "      <td>Financials</td>\n",
       "      <td>37,470</td>\n",
       "      <td>3.2%</td>\n",
       "      <td>37,335</td>\n",
       "      <td>San Antonio, Texas</td>\n",
       "    </tr>\n",
       "    <tr>\n",
       "      <th>98</th>\n",
       "      <td>99</td>\n",
       "      <td>Northwestern Mutual</td>\n",
       "      <td>Insurance</td>\n",
       "      <td>36,751</td>\n",
       "      <td>8.8%</td>\n",
       "      <td>7,585</td>\n",
       "      <td>Milwaukee, Wisconsin</td>\n",
       "    </tr>\n",
       "    <tr>\n",
       "      <th>99</th>\n",
       "      <td>100</td>\n",
       "      <td>Nucor</td>\n",
       "      <td>Metals</td>\n",
       "      <td>36,484</td>\n",
       "      <td>81.2%</td>\n",
       "      <td>28,800</td>\n",
       "      <td>Charlotte, North Carolina</td>\n",
       "    </tr>\n",
       "  </tbody>\n",
       "</table>\n",
       "<p>100 rows × 7 columns</p>\n",
       "</div>"
      ],
      "text/plain": [
       "   Rank                 Name                    Industry  \\\n",
       "0     1              Walmart       General merchandisers   \n",
       "1     2               Amazon  Retail and Cloud Computing   \n",
       "2     3                Apple        Electronics industry   \n",
       "3     4           CVS Health                  Healthcare   \n",
       "4     5   UnitedHealth Group                  Healthcare   \n",
       "..  ...                  ...                         ...   \n",
       "95   96     General Dynamics        Airspace and defense   \n",
       "96   97                  CHS     Agriculture cooperative   \n",
       "97   98                 USAA                  Financials   \n",
       "98   99  Northwestern Mutual                   Insurance   \n",
       "99  100                Nucor                      Metals   \n",
       "\n",
       "   Revenue (USD millions) Revenue growth  Employees  \\\n",
       "0                 572,754           2.4%  2,300,000   \n",
       "1                 469,822          21.7%  1,608,000   \n",
       "2                 365,817          33.2%    154,000   \n",
       "3                 292,111          32.0%    258,000   \n",
       "4                 287,597          11.8%    350,000   \n",
       "..                    ...            ...        ...   \n",
       "95                 38,469           8.7%    103,100   \n",
       "96                 38,448           1.4%      9,941   \n",
       "97                 37,470           3.2%     37,335   \n",
       "98                 36,751           8.8%      7,585   \n",
       "99                 36,484          81.2%     28,800   \n",
       "\n",
       "                      Headquarters  \n",
       "0            Bentonville, Arkansas  \n",
       "1              Seattle, Washington  \n",
       "2            Cupertino, California  \n",
       "3         Woonsocket, Rhode Island  \n",
       "4            Minnetonka, Minnesota  \n",
       "..                             ...  \n",
       "95                Reston, Virginia  \n",
       "96  Inver Grove Heights, Minnesota  \n",
       "97              San Antonio, Texas  \n",
       "98            Milwaukee, Wisconsin  \n",
       "99       Charlotte, North Carolina  \n",
       "\n",
       "[100 rows x 7 columns]"
      ]
     },
     "execution_count": 17,
     "metadata": {},
     "output_type": "execute_result"
    }
   ],
   "source": [
    "df"
   ]
  },
  {
   "cell_type": "markdown",
   "id": "42796711",
   "metadata": {},
   "source": [
    "# step7\n",
    "\n",
    "-> save the scraped data in a csv  file using df.to_csv(r'path')"
   ]
  },
  {
   "cell_type": "code",
   "execution_count": null,
   "id": "76b7937b",
   "metadata": {},
   "outputs": [],
   "source": [
    "df.to_csv(r'E:\\python')"
   ]
  },
  {
   "cell_type": "code",
   "execution_count": null,
   "id": "2982b19f",
   "metadata": {},
   "outputs": [],
   "source": []
  }
 ],
 "metadata": {
  "kernelspec": {
   "display_name": "Python 3 (ipykernel)",
   "language": "python",
   "name": "python3"
  },
  "language_info": {
   "codemirror_mode": {
    "name": "ipython",
    "version": 3
   },
   "file_extension": ".py",
   "mimetype": "text/x-python",
   "name": "python",
   "nbconvert_exporter": "python",
   "pygments_lexer": "ipython3",
   "version": "3.9.7"
  }
 },
 "nbformat": 4,
 "nbformat_minor": 5
}
